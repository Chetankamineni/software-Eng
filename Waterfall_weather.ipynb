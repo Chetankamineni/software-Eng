{
  "nbformat": 4,
  "nbformat_minor": 0,
  "metadata": {
    "colab": {
      "provenance": [],
      "authorship_tag": "ABX9TyOt54Vy49pAoIh3iGmhLyLi",
      "include_colab_link": true
    },
    "kernelspec": {
      "name": "python3",
      "display_name": "Python 3"
    },
    "language_info": {
      "name": "python"
    }
  },
  "cells": [
    {
      "cell_type": "markdown",
      "metadata": {
        "id": "view-in-github",
        "colab_type": "text"
      },
      "source": [
        "<a href=\"https://colab.research.google.com/github/Chetankamineni/software-Eng/blob/week-2/Waterfall_weather.ipynb\" target=\"_parent\"><img src=\"https://colab.research.google.com/assets/colab-badge.svg\" alt=\"Open In Colab\"/></a>"
      ]
    },
    {
      "cell_type": "code",
      "execution_count": 17,
      "metadata": {
        "colab": {
          "base_uri": "https://localhost:8080/"
        },
        "id": "wqzldld3muNN",
        "outputId": "1642a419-3b13-4af2-f9b2-91ad58ca5b86"
      },
      "outputs": [
        {
          "output_type": "stream",
          "name": "stdout",
          "text": [
            "Enter the temperature (in Celsius): 20\n",
            "Enter the humidity (in percentage): 80\n",
            "The weather is classified as: Sunny\n"
          ]
        }
      ],
      "source": [
        "def calculate_weather_result(temperature, humidity):\n",
        "    env_index = (0.5 * (temperature ** 2) - 0.2 * humidity - 15) / 0.9\n",
        "    if env_index > 40:\n",
        "        weather = \"Sunny\"\n",
        "    elif 20 <= env_index <= 40:\n",
        "        weather = \"Windy\"\n",
        "    else:\n",
        "        weather = \"Rainy\"\n",
        "    return weather\n",
        "\n",
        "\n",
        "def main():\n",
        "    temperature = float(input(\"Enter the temperature (in Celsius): \"))\n",
        "    humidity = float(input(\"Enter the humidity (in percentage): \"))\n",
        "\\\n",
        "    weather = calculate_weather_result(temperature, humidity)\n",
        "\n",
        "    print(f\"The weather is classified as: {weather}\")\n",
        "\n",
        "\n",
        "if __name__ == \"__main__\":\n",
        "    main()"
      ]
    }
  ]
}