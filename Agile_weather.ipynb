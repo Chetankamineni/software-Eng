{
  "nbformat": 4,
  "nbformat_minor": 0,
  "metadata": {
    "colab": {
      "provenance": [],
      "authorship_tag": "ABX9TyM4J7iZfOR1RmVONaqodCbd",
      "include_colab_link": true
    },
    "kernelspec": {
      "name": "python3",
      "display_name": "Python 3"
    },
    "language_info": {
      "name": "python"
    }
  },
  "cells": [
    {
      "cell_type": "markdown",
      "metadata": {
        "id": "view-in-github",
        "colab_type": "text"
      },
      "source": [
        "<a href=\"https://colab.research.google.com/github/Chetankamineni/software-Eng/blob/week-2/Agile_weather.ipynb\" target=\"_parent\"><img src=\"https://colab.research.google.com/assets/colab-badge.svg\" alt=\"Open In Colab\"/></a>"
      ]
    },
    {
      "cell_type": "code",
      "execution_count": 4,
      "metadata": {
        "colab": {
          "base_uri": "https://localhost:8080/"
        },
        "id": "UXoFE5qPm4zD",
        "outputId": "2fd0a861-3c09-4b41-988e-64c819c0a7c1"
      },
      "outputs": [
        {
          "output_type": "stream",
          "name": "stdout",
          "text": [
            "Enter the temperature (in Celsius): 20\n",
            "Enter the humidity (in percentage): 80\n",
            "The result is: 187.78 (sunny)\n"
          ]
        }
      ],
      "source": [
        "def calculate_weather_result(temperature, humidity):\n",
        "    if not (0 <= humidity <= 100):\n",
        "        raise ValueError(\"Humidity should be between 0 and 100 percent.\")\n",
        "    return (0.5 * (temperature ** 2) - 0.2 * humidity - 15) / 0.9\n",
        "\n",
        "def get_weather_condition(result):\n",
        "    if result < -5:\n",
        "        return \"rainy\"\n",
        "    elif result < 15:\n",
        "        return \"windy\"\n",
        "    else:\n",
        "        return \"sunny\"\n",
        "\n",
        "def main():\n",
        "    try:\n",
        "        temperature = float(input(\"Enter the temperature (in Celsius): \"))\n",
        "        humidity = float(input(\"Enter the humidity (in percentage): \"))\n",
        "        result = calculate_weather_result(temperature, humidity)\n",
        "        condition = get_weather_condition(result)\n",
        "        print(f\"The result is: {result:.2f} ({condition})\")\n",
        "    except ValueError as e:\n",
        "        print(f\"Error: {e}\")\n",
        "\n",
        "if __name__ == \"__main__\":\n",
        "    main()\n"
      ]
    }
  ]
}