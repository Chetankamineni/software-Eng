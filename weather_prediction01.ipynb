{
  "nbformat": 4,
  "nbformat_minor": 0,
  "metadata": {
    "colab": {
      "provenance": [],
      "authorship_tag": "ABX9TyPrUA25uPPwB2wPQJUZAvVB",
      "include_colab_link": true
    },
    "kernelspec": {
      "name": "python3",
      "display_name": "Python 3"
    },
    "language_info": {
      "name": "python"
    }
  },
  "cells": [
    {
      "cell_type": "markdown",
      "metadata": {
        "id": "view-in-github",
        "colab_type": "text"
      },
      "source": [
        "<a href=\"https://colab.research.google.com/github/Chetankamineni/software-Eng/blob/main/weather_prediction01.ipynb\" target=\"_parent\"><img src=\"https://colab.research.google.com/assets/colab-badge.svg\" alt=\"Open In Colab\"/></a>"
      ]
    },
    {
      "cell_type": "code",
      "execution_count": 3,
      "metadata": {
        "colab": {
          "base_uri": "https://localhost:8080/"
        },
        "id": "mMD55f_ndYDt",
        "outputId": "4edabb75-ab6b-4c96-f83d-cfce25d7b515"
      },
      "outputs": [
        {
          "output_type": "stream",
          "name": "stdout",
          "text": [
            "\n",
            "Calculated Weather Prediction (w) = 316.11\n",
            "Weather Condition: Sunny\n"
          ]
        }
      ],
      "source": [
        "def weather_prediction(t, h, w):\n",
        "    result = (0.5 * t**2 - 0.2 * h - 15) / 0.9\n",
        "    print(f\"\\nCalculated Weather Prediction (w) = {result:.2f}\")\n",
        "\n",
        "    if result > 40:\n",
        "        weather_condition = \"Sunny\"\n",
        "    elif 20 <= result <= 40:\n",
        "        weather_condition = \"Partly Cloudy\"\n",
        "    elif 0 <= result < 20:\n",
        "        weather_condition = \"Cloudy\"\n",
        "    elif result < 0:\n",
        "        weather_condition = \"Rainy\"\n",
        "\n",
        "    print(f\"Weather Condition: {weather_condition}\")\n",
        "\n",
        "def read_input_from_file(filename):\n",
        "    try:\n",
        "        with open(filename, 'r') as file:\n",
        "\n",
        "            temperature = float(file.readline().strip())\n",
        "            humidity = float(file.readline().strip())\n",
        "            wind_speed = float(file.readline().strip())\n",
        "            return temperature, humidity, wind_speed\n",
        "    except Exception as e:\n",
        "        print(f\"Error reading file: {e}\")\n",
        "        return None, None, None\n",
        "\n",
        "filename = 'weatherinput1.txt'\n",
        "\n",
        "temperature, humidity, wind_speed = read_input_from_file(filename)\n",
        "\n",
        "if temperature is not None and humidity is not None and wind_speed is not None:\n",
        "    weather_prediction(temperature, humidity, wind_speed)\n",
        "else:\n",
        "    print(\"Invalid input data.\")\n"
      ]
    }
  ]
}