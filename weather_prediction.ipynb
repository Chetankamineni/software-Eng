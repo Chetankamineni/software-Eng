{
  "nbformat": 4,
  "nbformat_minor": 0,
  "metadata": {
    "colab": {
      "provenance": [],
      "authorship_tag": "ABX9TyNvCWjfCaN/fu+sYc6D+upm",
      "include_colab_link": true
    },
    "kernelspec": {
      "name": "python3",
      "display_name": "Python 3"
    },
    "language_info": {
      "name": "python"
    }
  },
  "cells": [
    {
      "cell_type": "markdown",
      "metadata": {
        "id": "view-in-github",
        "colab_type": "text"
      },
      "source": [
        "<a href=\"https://colab.research.google.com/github/Chetankamineni/softwareEng/blob/main/weather_prediction.ipynb\" target=\"_parent\"><img src=\"https://colab.research.google.com/assets/colab-badge.svg\" alt=\"Open In Colab\"/></a>"
      ]
    },
    {
      "cell_type": "code",
      "execution_count": 8,
      "metadata": {
        "colab": {
          "base_uri": "https://localhost:8080/"
        },
        "id": "8a3-L8puVJYg",
        "outputId": "83b55f52-c8c7-4c6a-9533-3d6ce940daf8"
      },
      "outputs": [
        {
          "output_type": "stream",
          "name": "stdout",
          "text": [
            "Enter the temperature (°C): 30\n",
            "Enter the humidity (%): 70\n",
            "Enter the wind speed (m/s): 5\n",
            "\n",
            "Calculated Weather Prediction (w) = 467.78\n",
            "Weather Condition: Sunny\n"
          ]
        }
      ],
      "source": [
        "  def weather_prediction(t, h, w):\n",
        "\n",
        "      result = (0.5 * t**2 - 0.2 * h - 15) / 0.9\n",
        "      print(f\"\\nCalculated Weather Prediction (w) = {result:.2f}\")\n",
        "      if result > 40:\n",
        "          weather_condition = \"Sunny\"\n",
        "      elif 20 <= result <= 40:\n",
        "          weather_condition = \"Partly Cloudy\"\n",
        "      elif 0 <= result < 20:\n",
        "          weather_condition = \"Cloudy\"\n",
        "      elif result < 0:\n",
        "          weather_condition = \"Rainy\"\n",
        "\n",
        "      print(f\"Weather Condition: {weather_condition}\")\n",
        "\n",
        "\n",
        "  temperature = float(input(\"Enter the temperature (°C): \"))\n",
        "  humidity = float(input(\"Enter the humidity (%): \"))\n",
        "  wind_speed = float(input(\"Enter the wind speed (m/s): \"))\n",
        "\n",
        "  weather_prediction(temperature, humidity, wind_speed)"
      ]
    }
  ]
}