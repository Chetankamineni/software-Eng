{
  "nbformat": 4,
  "nbformat_minor": 0,
  "metadata": {
    "colab": {
      "provenance": [],
      "authorship_tag": "ABX9TyP87dJl8/Jk/BByp3TtPlq1",
      "include_colab_link": true
    },
    "kernelspec": {
      "name": "python3",
      "display_name": "Python 3"
    },
    "language_info": {
      "name": "python"
    }
  },
  "cells": [
    {
      "cell_type": "markdown",
      "metadata": {
        "id": "view-in-github",
        "colab_type": "text"
      },
      "source": [
        "<a href=\"https://colab.research.google.com/github/Chetankamineni/softwareEng/blob/main/weather_prediction.ipynb\" target=\"_parent\"><img src=\"https://colab.research.google.com/assets/colab-badge.svg\" alt=\"Open In Colab\"/></a>"
      ]
    },
    {
      "cell_type": "code",
      "execution_count": 6,
      "metadata": {
        "colab": {
          "base_uri": "https://localhost:8080/"
        },
        "id": "8a3-L8puVJYg",
        "outputId": "5271f419-a094-440b-d7bc-67ae10735954"
      },
      "outputs": [
        {
          "output_type": "stream",
          "name": "stdout",
          "text": [
            "Enter the temperature (°C): 35\n",
            "Enter the humidity (%): 60\n",
            "Enter the wind speed (m/s): 11\n",
            "\n",
            "Weather Prediction Calculation:\n",
            "Temperature (t) = 35.0°C\n",
            "Humidity (h) = 60.0%\n",
            "Wind Speed (w) = 11.0 m/s (Note: this is not used directly in the formula but included in the inputs)\n",
            "\n",
            "Using the formula:\n",
            "w = (0.5 * t^2 - 0.2 * h - 15) / 0.9\n",
            "\n",
            "Calculated Weather Prediction (w) = 650.56\n",
            "Weather Condition: Sunny\n"
          ]
        }
      ],
      "source": [
        "  def weather_prediction(t, h, w):\n",
        "\n",
        "      result = (0.5 * t**2 - 0.2 * h - 15) / 0.9\n",
        "\n",
        "      print(\"\\nWeather Prediction Calculation:\")\n",
        "      print(f\"Temperature (t) = {t}°C\")\n",
        "      print(f\"Humidity (h) = {h}%\")\n",
        "      print(f\"Wind Speed (w) = {w} m/s (Note: this is not used directly in the formula but included in the inputs)\")\n",
        "      print(\"\\nUsing the formula:\")\n",
        "      print(\"w = (0.5 * t^2 - 0.2 * h - 15) / 0.9\")\n",
        "\n",
        "      print(f\"\\nCalculated Weather Prediction (w) = {result:.2f}\")\n",
        "\n",
        "      if result > 40:\n",
        "          weather_condition = \"Sunny\"\n",
        "      elif 20 <= result <= 40:\n",
        "          weather_condition = \"Partly Cloudy\"\n",
        "      elif 0 <= result < 20:\n",
        "          weather_condition = \"Cloudy\"\n",
        "      elif result < 0:\n",
        "          weather_condition = \"Rainy\"\n",
        "\n",
        "      print(f\"Weather Condition: {weather_condition}\")\n",
        "\n",
        "\n",
        "  temperature = float(input(\"Enter the temperature (°C): \"))\n",
        "  humidity = float(input(\"Enter the humidity (%): \"))\n",
        "  wind_speed = float(input(\"Enter the wind speed (m/s): \"))\n",
        "\n",
        "  weather_prediction(temperature, humidity, wind_speed)"
      ]
    }
  ]
}